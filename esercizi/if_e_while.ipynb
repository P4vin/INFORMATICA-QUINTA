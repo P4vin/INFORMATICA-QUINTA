{
  "cells": [
    {
      "cell_type": "markdown",
      "metadata": {
        "id": "HB3XbPDcSqe1"
      },
      "source": [
        "# Esercizi IF"
      ]
    },
    {
      "cell_type": "code",
      "execution_count": 12,
      "metadata": {
        "id": "0U7L9A29RfeT"
      },
      "outputs": [
        {
          "name": "stdout",
          "output_type": "stream",
          "text": [
            "inserisci un numero: \n",
            "dispari\n"
          ]
        }
      ],
      "source": [
        "# Es 4.1: Ottenere dall'utente un numero in input e scrivere a schermo \"Pari\" se il numero è pari, scrivere \"Dispari\" altrimenti\n",
        "print(\"inserisci un numero: \") \n",
        "x = int(input())   \n",
        "if (x%2 == 0):\n",
        " print(\"pari\")\n",
        "\n",
        "else: \n",
        " print (\"dispari\")\n",
        "\n"
      ]
    },
    {
      "cell_type": "code",
      "execution_count": null,
      "metadata": {
        "id": "gE3RVr9ORuwP"
      },
      "outputs": [],
      "source": [
        "# Es 4.2: Ottenere dall'utente tre angoli caso siano i tre angoli di un triangolo scrivere a schermo \"È un triangolo\", altrimenti \"Non è un triangolo\"\n",
        "print(\"inserisci il primo angolo: \")\n",
        "x= float(input())\n",
        "print(\"inserisci il secondo angolo: \")\n",
        "y= float(input())\n",
        "print(\"inserisci il terzo angolo: \")\n",
        "z= float(input())\n",
        "\n",
        "if (x+y+z == 180):\n",
        "    print(\"ue, hai fatto nu triangulu!\")\n",
        "\n",
        "else:\n",
        "    print(\"varda sto coglione, manco i calcoli di base sa fare\")   "
      ]
    },
    {
      "cell_type": "code",
      "execution_count": null,
      "metadata": {
        "id": "r1A_DavcSKgi"
      },
      "outputs": [
        {
          "name": "stdout",
          "output_type": "stream",
          "text": [
            "varda sto coglione, manco i calcoli di base sa fare\n"
          ]
        }
      ],
      "source": [
        "# Es 4.3: Ottenuti dall'utente tre angoli di un tringolo scrivere a schermo se i tre angoli descrivono un triangolo rettangolo o no\n",
        "print(\"inserisci il primo angolo: \")\n",
        "x= float(input())\n",
        "print(\"inserisci il secondo angolo: \")\n",
        "y= float(input())\n",
        "print(\"inserisci il terzo angolo: \")\n",
        "z= float(input())\n",
        "\n",
        "if (x+y+z == 180):\n",
        "    if(x== 90 or y ==90 or z == 90):\n",
        "        print(\"il triangolo è rettangolo\")\n",
        "    else:\n",
        "        print(\"il triangolo esiste ma non è rettangolo\")\n",
        "else:       \n",
        "    print(\"varda sto stupido, manco i calcoli di base sa fare\")     "
      ]
    },
    {
      "cell_type": "code",
      "execution_count": null,
      "metadata": {
        "id": "iA9D4X_GSims"
      },
      "outputs": [],
      "source": [
        "# Es 4.4: Ottenuti dall'utente tre angoli di un tringolo scrivere a schermo se i tre angoli descrivono un triangolo equilatero o no\n",
        "print(\"inserisci il primo angolo: \")\n",
        "x= float(input())\n",
        "print(\"inserisci il secondo angolo: \")\n",
        "y= float(input())\n",
        "print(\"inserisci il terzo angolo: \")\n",
        "z= float(input())\n",
        "if (x+y+z == 180):\n",
        "    if( x==y and y==z and x==z):\n",
        "          print(\"il triangolo è equilatero\")\n",
        "    else:\n",
        "         print(\"il triangolo esiste ma non è equilatero\")\n",
        "else:\n",
        "    print(\"varda sto stupido, manco i calcoli di base sa fare\")          \n",
        "          \n"
      ]
    },
    {
      "cell_type": "code",
      "execution_count": null,
      "metadata": {
        "id": "8q4gadoTSU7J"
      },
      "outputs": [],
      "source": [
        "# Es 4.5: Ottenuti dall'utente tre angoli di un tringolo scrivere a schermo se i tre angoli descrivono un triangolo isocele o no\n",
        "print(\"inserisci il primo angolo: \")\n",
        "x= float(input())\n",
        "print(\"inserisci il secondo angolo: \")\n",
        "y= float(input())\n",
        "print(\"inserisci il terzo angolo: \")\n",
        "z= float(input())\n",
        "if (x+y+z == 180):\n",
        "    if( x==y or y==z or x==z ):\n",
        "          print(\"il triangolo è isoscele\")\n",
        "    else:\n",
        "         print(\"il triangolo esiste ma non è isoscele\")\n",
        "else:\n",
        "    print(\"varda sto stupido, manco i calcoli di base sa fare\")"
      ]
    },
    {
      "cell_type": "code",
      "execution_count": null,
      "metadata": {
        "id": "yVIE2kK3SYlq"
      },
      "outputs": [],
      "source": [
        "# Es 4.6: Ottenuti dall'utente tre angoli di un tringolo scrivere a schermo se i tre angoli descrivono un triangolo isocele, rettagolo, equilatero o scaleno\n",
        "print(\"inserisci il primo angolo: \")\n",
        "x= float(input())\n",
        "print(\"inserisci il secondo angolo: \")\n",
        "y= float(input())\n",
        "print(\"inserisci il terzo angolo: \")\n",
        "z= float(input())\n",
        "if (x+y+z == 180):\n",
        "  if( x==y and y==z and x==z):\n",
        "    print(\"il triangolo è equilatero\")\n",
        "  else:\n",
        "    if( x==y or y==z or x==z ):\n",
        "          print(\"il triangolo è isoscele\")\n",
        "    else:\n",
        "       if(x== 90 or y ==90 or z == 90):\n",
        "        print(\"il triangolo è rettangolo\")\n",
        "       else:\n",
        "          print(\"il triangolo esiste ma non appartiene a nessuna delle categorie selezionate\")\n",
        "else:\n",
        " print(\"varda sto stupido, manco i calcoli di base sa fare\")"
      ]
    },
    {
      "cell_type": "markdown",
      "metadata": {
        "id": "ef5snVxLqeQh"
      },
      "source": [
        "# Esercizi WHILE\n"
      ]
    },
    {
      "cell_type": "code",
      "execution_count": 38,
      "metadata": {},
      "outputs": [
        {
          "name": "stdout",
          "output_type": "stream",
          "text": [
            "inserisci il primo numero: \n",
            "inserisci il numero di volte che si desidera stamapre il numero: \n",
            "5\n",
            "5\n",
            "5\n",
            "5\n",
            "5\n",
            "5\n"
          ]
        }
      ],
      "source": [
        "# Es 4.7: Creare una funzione print_n(n,v) che stampi n volte il. contenuto di v\n",
        "\n",
        "def print_n(n, v):\n",
        "    i = 0\n",
        "    while i < n:\n",
        "        print(v)\n",
        "        i +=1\n",
        "\n",
        "\n",
        "print(\"inserisci il primo numero: \")\n",
        "v= int(input())\n",
        "print(\"inserisci il numero di volte che si desidera stamapre il numero: \")\n",
        "n= int(input())\n",
        "print_n (n,v)"
      ]
    },
    {
      "cell_type": "code",
      "execution_count": null,
      "metadata": {
        "colab": {
          "base_uri": "https://localhost:8080/"
        },
        "id": "-6lAm-hfq9w9",
        "outputId": "399e82ba-3cfe-475f-f8df-0e156677ec75"
      },
      "outputs": [],
      "source": [
        "# Es 4.8: Inserito il numero n dire per quali numeri, compresi tra 1 e n, è divisibile.\n",
        "# Inserisco 10: stampo 1,2,5\n",
        "# Inserisco 7: stampo 1\n",
        "print(\"Inserisci un numero intero n: \")\n",
        "n= int(input())\n",
        "i= 1\n",
        "if n < 1:\n",
        "    print(\"Il numero deve essere maggiore di 0.\")\n",
        "else:\n",
        "    print(\"i numeri minori di n per cui esso è divisibile sono: \")\n",
        "    while(n>i):\n",
        "     if n % i == 0:\n",
        "        print(i)\n",
        "        i +=1\n",
        "    \n",
        "\n",
        "    \n"
      ]
    },
    {
      "cell_type": "code",
      "execution_count": 50,
      "metadata": {
        "colab": {
          "base_uri": "https://localhost:8080/"
        },
        "id": "GjC4LdR7rP-b",
        "outputId": "9f539b4d-c307-479a-da13-610a7e1cc46e"
      },
      "outputs": [
        {
          "name": "stdout",
          "output_type": "stream",
          "text": [
            "Inserisci un numero intero n: \n",
            "il numero inserito è un numero primo.\n"
          ]
        }
      ],
      "source": [
        "# Es 4.9: Inserito il numero n dire se è primo o no\n",
        "print(\"Inserisci un numero intero n: \")\n",
        "n = int(input())\n",
        "\n",
        "if n <= 1:\n",
        "    print(\"il numero inserito non è un numero primo in quanto minore o uguale a 1.\")\n",
        "else:\n",
        "    i = 2\n",
        "    while i < n:\n",
        "        if n % i == 0:\n",
        "            print(\"il numero inserito non è un numero primo.\")\n",
        "            break\n",
        "        i += 1\n",
        "    else:\n",
        "        print(\"il numero inserito è un numero primo.\")"
      ]
    },
    {
      "cell_type": "code",
      "execution_count": 3,
      "metadata": {
        "colab": {
          "base_uri": "https://localhost:8080/"
        },
        "id": "CxtWnOdHsTv4",
        "outputId": "5d874410-cb07-46a2-9c22-83d541b7a91a"
      },
      "outputs": [
        {
          "name": "stdout",
          "output_type": "stream",
          "text": [
            "inserisci il primo numero: \n",
            "inserisci il secondo numero: \n",
            "il prodotto dei numeri inseriti equivale a: \n"
          ]
        },
        {
          "data": {
            "text/plain": [
              "280"
            ]
          },
          "execution_count": 3,
          "metadata": {},
          "output_type": "execute_result"
        }
      ],
      "source": [
        "# Es 4.10: Creare la funzione moltiplica che restituisce il prodotto tra due numeri senza utilizzare *\n",
        "# 3*4 è uguale a 4+4+4\n",
        "def moltiplica(n,v):\n",
        " i=0\n",
        " risultato=0\n",
        " while(i<n) :\n",
        "   risultato= risultato +v\n",
        "   i+= 1\n",
        " print(\"il prodotto dei numeri inseriti equivale a: \")\n",
        " return risultato \n",
        "\n",
        "print(\"inserisci il primo numero: \")\n",
        "n=int(input())\n",
        "print(\"inserisci il secondo numero: \")\n",
        "v=int(input())\n",
        "moltiplica(n,v)\n",
        "\n"
      ]
    }
  ],
  "metadata": {
    "colab": {
      "provenance": []
    },
    "kernelspec": {
      "display_name": "Python 3",
      "name": "python3"
    },
    "language_info": {
      "codemirror_mode": {
        "name": "ipython",
        "version": 3
      },
      "file_extension": ".py",
      "mimetype": "text/x-python",
      "name": "python",
      "nbconvert_exporter": "python",
      "pygments_lexer": "ipython3",
      "version": "3.10.8"
    }
  },
  "nbformat": 4,
  "nbformat_minor": 0
}
